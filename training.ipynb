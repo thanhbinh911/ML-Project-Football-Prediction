{
 "cells": [
  {
   "cell_type": "code",
   "execution_count": 1,
   "id": "c24de957",
   "metadata": {},
   "outputs": [],
   "source": [
    "import pandas as pd"
   ]
  },
  {
   "cell_type": "code",
   "execution_count": null,
   "id": "cb2fe3c1",
   "metadata": {
    "vscode": {
     "languageId": "markdown"
    }
   },
   "outputs": [
    {
     "name": "stdout",
     "output_type": "stream",
     "text": [
      "         Date           Time            Comp        Round  Day Venue Result  \\\n",
      "0  2024-08-17  12:30 (18:30)  Premier League  Matchweek 1  Sat  Away      W   \n",
      "1  2024-08-25  16:30 (22:30)  Premier League  Matchweek 2  Sun  Home      W   \n",
      "2  2024-09-01  16:00 (22:00)  Premier League  Matchweek 3  Sun  Away      W   \n",
      "3  2024-09-14  15:00 (21:00)  Premier League  Matchweek 4  Sat  Home      L   \n",
      "4  2024-09-21  15:00 (21:00)  Premier League  Matchweek 5  Sat  Home      W   \n",
      "\n",
      "   GF  GA         Opponent  ...  Dist   FK  PK  PKatt npxG npxG/Sh G-xG  \\\n",
      "0   2   0     Ipswich Town  ...  14.8  0.0   0      0  2.6    0.15 -0.6   \n",
      "1   2   0        Brentford  ...  13.6  1.0   0      0  2.5    0.14 -0.5   \n",
      "2   3   0   Manchester Utd  ...  13.4  0.0   0      0  1.8    0.16  1.2   \n",
      "3   0   1  Nott'ham Forest  ...  14.9  0.0   0      0  0.9    0.07 -0.9   \n",
      "4   3   0      Bournemouth  ...  16.6  0.0   0      0  2.0    0.11  1.0   \n",
      "\n",
      "  np:G-xG Season       Team  \n",
      "0    -0.6   2025  Liverpool  \n",
      "1    -0.5   2025  Liverpool  \n",
      "2     1.2   2025  Liverpool  \n",
      "3    -0.9   2025  Liverpool  \n",
      "4     1.0   2025  Liverpool  \n",
      "\n",
      "[5 rows x 36 columns]\n"
     ]
    }
   ],
   "source": [
    "matches = pd.read_excel('football_data.xlsx')\n"
   ]
  },
  {
   "cell_type": "code",
   "execution_count": 7,
   "id": "6354f899",
   "metadata": {
    "vscode": {
     "languageId": "markdown"
    }
   },
   "outputs": [
    {
     "data": {
      "text/plain": [
       "pandas.core.frame.DataFrame"
      ]
     },
     "execution_count": 7,
     "metadata": {},
     "output_type": "execute_result"
    }
   ],
   "source": [
    "type(matches)"
   ]
  },
  {
   "cell_type": "code",
   "execution_count": null,
   "id": "e1feabb7",
   "metadata": {},
   "outputs": [
    {
     "data": {
      "text/plain": [
       "Date              object\n",
       "Time              object\n",
       "Comp              object\n",
       "Round             object\n",
       "Day               object\n",
       "Venue             object\n",
       "Result            object\n",
       "GF                 int64\n",
       "GA                 int64\n",
       "Opponent          object\n",
       "xG               float64\n",
       "xGA              float64\n",
       "Poss               int64\n",
       "Attendance       float64\n",
       "Captain           object\n",
       "Formation         object\n",
       "Opp Formation     object\n",
       "Referee           object\n",
       "Match Report      object\n",
       "Notes            float64\n",
       "Gls                int64\n",
       "Sh                 int64\n",
       "SoT                int64\n",
       "SoT%             float64\n",
       "G/Sh             float64\n",
       "G/SoT            float64\n",
       "Dist             float64\n",
       "FK               float64\n",
       "PK                 int64\n",
       "PKatt              int64\n",
       "npxG             float64\n",
       "npxG/Sh          float64\n",
       "G-xG             float64\n",
       "np:G-xG          float64\n",
       "Season             int64\n",
       "Team              object\n",
       "dtype: object"
      ]
     },
     "execution_count": 10,
     "metadata": {},
     "output_type": "execute_result"
    }
   ],
   "source": [
    "matches.dtypes"
   ]
  },
  {
   "cell_type": "code",
   "execution_count": null,
   "id": "5e6b2e5f",
   "metadata": {},
   "outputs": [],
   "source": []
  }
 ],
 "metadata": {
  "kernelspec": {
   "display_name": "Python 3",
   "language": "python",
   "name": "python3"
  },
  "language_info": {
   "codemirror_mode": {
    "name": "ipython",
    "version": 3
   },
   "file_extension": ".py",
   "mimetype": "text/x-python",
   "name": "python",
   "nbconvert_exporter": "python",
   "pygments_lexer": "ipython3",
   "version": "3.12.9"
  }
 },
 "nbformat": 4,
 "nbformat_minor": 5
}
